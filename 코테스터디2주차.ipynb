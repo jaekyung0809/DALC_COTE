{
  "nbformat": 4,
  "nbformat_minor": 0,
  "metadata": {
    "colab": {
      "name": "코테스터디2주차.ipynb",
      "provenance": [],
      "collapsed_sections": []
    },
    "kernelspec": {
      "name": "python3",
      "display_name": "Python 3"
    },
    "language_info": {
      "name": "python"
    }
  },
  "cells": [
    {
      "cell_type": "markdown",
      "metadata": {
        "id": "uHj01P6Pv5wG"
      },
      "source": [
        "\n",
        "# 5장 리스트, 딕셔너리\n",
        "\n"
      ]
    },
    {
      "cell_type": "code",
      "metadata": {
        "id": "lhDWICHWrAYP"
      },
      "source": [
        "a = list()\n",
        "a = []"
      ],
      "execution_count": 10,
      "outputs": []
    },
    {
      "cell_type": "code",
      "metadata": {
        "id": "yTbzL7yns-YI"
      },
      "source": [
        "a = [1,2,3]"
      ],
      "execution_count": 11,
      "outputs": []
    },
    {
      "cell_type": "code",
      "metadata": {
        "id": "tMVmrAw-tGK0"
      },
      "source": [
        "a.append(4)\n",
        "a.append('안녕')\n",
        "a.append(True)"
      ],
      "execution_count": 12,
      "outputs": []
    },
    {
      "cell_type": "code",
      "metadata": {
        "id": "GIINzqSvtG-U"
      },
      "source": [
        "a.insert(3,5)"
      ],
      "execution_count": 14,
      "outputs": []
    },
    {
      "cell_type": "code",
      "metadata": {
        "colab": {
          "base_uri": "https://localhost:8080/"
        },
        "id": "HeqYzp_6tITO",
        "outputId": "c537192e-f208-411d-d992-4c86e45a9edc"
      },
      "source": [
        "a[3] \n",
        "a[1:3] \n",
        "a[:3] \n",
        "a[4:] \n",
        "a[1:4:2] # 인덱스 1,3"
      ],
      "execution_count": 15,
      "outputs": [
        {
          "output_type": "execute_result",
          "data": {
            "text/plain": [
              "[2, 5]"
            ]
          },
          "metadata": {
            "tags": []
          },
          "execution_count": 15
        }
      ]
    },
    {
      "cell_type": "code",
      "metadata": {
        "colab": {
          "base_uri": "https://localhost:8080/"
        },
        "id": "vWolAHBBtjAJ",
        "outputId": "049a8fde-eed8-4258-aca9-cb7d07007a6c"
      },
      "source": [
        "# a[9] 오류\n",
        "try:\n",
        "    print(a[9])\n",
        "except IndexError:\n",
        "    print('존재하지 않는 인덱스')"
      ],
      "execution_count": 17,
      "outputs": [
        {
          "output_type": "stream",
          "text": [
            "존재하지 않는 인덱스\n"
          ],
          "name": "stdout"
        }
      ]
    },
    {
      "cell_type": "code",
      "metadata": {
        "colab": {
          "base_uri": "https://localhost:8080/"
        },
        "id": "NQaS1WhlvcUh",
        "outputId": "fca34f32-d860-45b4-fbdf-229fbb3c6c22"
      },
      "source": [
        "a"
      ],
      "execution_count": 18,
      "outputs": [
        {
          "output_type": "execute_result",
          "data": {
            "text/plain": [
              "[1, 2, 3, 5, 5, 4, '안녕', True]"
            ]
          },
          "metadata": {
            "tags": []
          },
          "execution_count": 18
        }
      ]
    },
    {
      "cell_type": "code",
      "metadata": {
        "colab": {
          "base_uri": "https://localhost:8080/"
        },
        "id": "RK8IMhDQvdJo",
        "outputId": "547ef3fd-bb45-4a99-8871-5fc108f706d7"
      },
      "source": [
        "del a[1] # 인덱스 1 삭제\n",
        "a"
      ],
      "execution_count": 19,
      "outputs": [
        {
          "output_type": "execute_result",
          "data": {
            "text/plain": [
              "[1, 3, 5, 5, 4, '안녕', True]"
            ]
          },
          "metadata": {
            "tags": []
          },
          "execution_count": 19
        }
      ]
    },
    {
      "cell_type": "code",
      "metadata": {
        "colab": {
          "base_uri": "https://localhost:8080/"
        },
        "id": "7ZaHjzhLvd-3",
        "outputId": "a2b1a6c5-2cdd-4d16-d7d4-016bc97d0b93"
      },
      "source": [
        "a"
      ],
      "execution_count": 20,
      "outputs": [
        {
          "output_type": "execute_result",
          "data": {
            "text/plain": [
              "[1, 3, 5, 5, 4, '안녕', True]"
            ]
          },
          "metadata": {
            "tags": []
          },
          "execution_count": 20
        }
      ]
    },
    {
      "cell_type": "code",
      "metadata": {
        "colab": {
          "base_uri": "https://localhost:8080/"
        },
        "id": "bfRLv0G3veA3",
        "outputId": "00d513a8-c042-4df7-d01d-385e4bb89454"
      },
      "source": [
        "a.remove(3) #값 삭제\n",
        "a"
      ],
      "execution_count": 21,
      "outputs": [
        {
          "output_type": "execute_result",
          "data": {
            "text/plain": [
              "[1, 5, 5, 4, '안녕', True]"
            ]
          },
          "metadata": {
            "tags": []
          },
          "execution_count": 21
        }
      ]
    },
    {
      "cell_type": "code",
      "metadata": {
        "colab": {
          "base_uri": "https://localhost:8080/"
        },
        "id": "8n8oNyZ9veDD",
        "outputId": "57486ef4-d841-40d7-b560-57c99ac55c95"
      },
      "source": [
        "a.pop(3) #삭제될 값을 리턴하고 삭제진행\n",
        "a"
      ],
      "execution_count": 22,
      "outputs": [
        {
          "output_type": "execute_result",
          "data": {
            "text/plain": [
              "[1, 5, 5, '안녕', True]"
            ]
          },
          "metadata": {
            "tags": []
          },
          "execution_count": 22
        }
      ]
    },
    {
      "cell_type": "code",
      "metadata": {
        "colab": {
          "base_uri": "https://localhost:8080/"
        },
        "id": "PvhaIw9eveFC",
        "outputId": "a35d8d87-8295-4e90-872b-71dbfdc90729"
      },
      "source": [
        "a = {'key1':'value1', 'key2':'value2'}\n",
        "a"
      ],
      "execution_count": 23,
      "outputs": [
        {
          "output_type": "execute_result",
          "data": {
            "text/plain": [
              "{'key1': 'value1', 'key2': 'value2'}"
            ]
          },
          "metadata": {
            "tags": []
          },
          "execution_count": 23
        }
      ]
    },
    {
      "cell_type": "code",
      "metadata": {
        "colab": {
          "base_uri": "https://localhost:8080/"
        },
        "id": "6s8e_HiOveHD",
        "outputId": "9f35e171-ddb6-4ea6-f1bb-8de8e323a51a"
      },
      "source": [
        "a['key3'] = 'value3'\n",
        "a"
      ],
      "execution_count": 24,
      "outputs": [
        {
          "output_type": "execute_result",
          "data": {
            "text/plain": [
              "{'key1': 'value1', 'key2': 'value2', 'key3': 'value3'}"
            ]
          },
          "metadata": {
            "tags": []
          },
          "execution_count": 24
        }
      ]
    },
    {
      "cell_type": "code",
      "metadata": {
        "colab": {
          "base_uri": "https://localhost:8080/",
          "height": 35
        },
        "id": "LEzB5pqHveJl",
        "outputId": "cd6d76f8-2630-4064-d39b-4b35ec4656bf"
      },
      "source": [
        "a['key1']"
      ],
      "execution_count": 25,
      "outputs": [
        {
          "output_type": "execute_result",
          "data": {
            "application/vnd.google.colaboratory.intrinsic+json": {
              "type": "string"
            },
            "text/plain": [
              "'value1'"
            ]
          },
          "metadata": {
            "tags": []
          },
          "execution_count": 25
        }
      ]
    },
    {
      "cell_type": "code",
      "metadata": {
        "id": "XFE9A8I2vePt"
      },
      "source": [
        "# a['key4'] 오류\n",
        "try:\n",
        "    print(a['key4'])\n",
        "except KeyError:\n",
        "    print('존재하지 않는 키')"
      ],
      "execution_count": null,
      "outputs": []
    },
    {
      "cell_type": "code",
      "metadata": {
        "colab": {
          "base_uri": "https://localhost:8080/"
        },
        "id": "yQg7xSS_veSG",
        "outputId": "e6d6fb01-3c5a-4183-8fe2-434c875d85ad"
      },
      "source": [
        "# del a['key4'] 없는 값 삭제 역시 오류\n",
        "'key4' in a"
      ],
      "execution_count": 29,
      "outputs": [
        {
          "output_type": "execute_result",
          "data": {
            "text/plain": [
              "False"
            ]
          },
          "metadata": {
            "tags": []
          },
          "execution_count": 29
        }
      ]
    },
    {
      "cell_type": "code",
      "metadata": {
        "colab": {
          "base_uri": "https://localhost:8080/"
        },
        "id": "9dN1FRh4xDUk",
        "outputId": "71e1847b-4430-4675-c90a-6852aeaa4eed"
      },
      "source": [
        "if 'key4' in a:\n",
        "    print('존재하는 키')\n",
        "else:\n",
        "    print('존재하지 않는 키')"
      ],
      "execution_count": 30,
      "outputs": [
        {
          "output_type": "stream",
          "text": [
            "존재하지 않는 키\n"
          ],
          "name": "stdout"
        }
      ]
    },
    {
      "cell_type": "code",
      "metadata": {
        "colab": {
          "base_uri": "https://localhost:8080/"
        },
        "id": "OEIzCvRExDhr",
        "outputId": "34a4fbfe-a25b-4312-fa44-f4898dcdf2b8"
      },
      "source": [
        "for k, v in a.items():\n",
        "    print(k, v)"
      ],
      "execution_count": 32,
      "outputs": [
        {
          "output_type": "stream",
          "text": [
            "key1 value1\n",
            "key2 value2\n",
            "key3 value3\n"
          ],
          "name": "stdout"
        }
      ]
    },
    {
      "cell_type": "code",
      "metadata": {
        "colab": {
          "base_uri": "https://localhost:8080/"
        },
        "id": "8eMi0eJlvdbJ",
        "outputId": "8af46c9f-ba1f-4a54-d999-5b72053b8513"
      },
      "source": [
        "del a['key1']\n",
        "a"
      ],
      "execution_count": 33,
      "outputs": [
        {
          "output_type": "execute_result",
          "data": {
            "text/plain": [
              "{'key2': 'value2', 'key3': 'value3'}"
            ]
          },
          "metadata": {
            "tags": []
          },
          "execution_count": 33
        }
      ]
    },
    {
      "cell_type": "code",
      "metadata": {
        "colab": {
          "base_uri": "https://localhost:8080/"
        },
        "id": "foLmJg-exvdO",
        "outputId": "d4bcb0cb-ad2a-46d4-a4b0-04065a31f140"
      },
      "source": [
        "import collections\n",
        "a = collections.defaultdict(int)\n",
        "a['A'] = 5\n",
        "a['B'] = 4\n",
        "a\n",
        "#defaultdict객체 A,B키값에 새 값 할당"
      ],
      "execution_count": 34,
      "outputs": [
        {
          "output_type": "execute_result",
          "data": {
            "text/plain": [
              "defaultdict(int, {'A': 5, 'B': 4})"
            ]
          },
          "metadata": {
            "tags": []
          },
          "execution_count": 34
        }
      ]
    },
    {
      "cell_type": "code",
      "metadata": {
        "colab": {
          "base_uri": "https://localhost:8080/"
        },
        "id": "02KV86FTxvv3",
        "outputId": "41b5cd32-d914-4f3f-8dac-dcb00f05426c"
      },
      "source": [
        "a['C'] += 1\n",
        "a\n",
        "# 0 + 1 을 C에 할당당"
      ],
      "execution_count": 37,
      "outputs": [
        {
          "output_type": "execute_result",
          "data": {
            "text/plain": [
              "defaultdict(int, {'A': 5, 'B': 4, 'C': 1})"
            ]
          },
          "metadata": {
            "tags": []
          },
          "execution_count": 37
        }
      ]
    },
    {
      "cell_type": "code",
      "metadata": {
        "colab": {
          "base_uri": "https://localhost:8080/"
        },
        "id": "lU9h2zIExvxl",
        "outputId": "2e54d936-0146-4452-c38f-46040f5fd129"
      },
      "source": [
        "a1 = [1,2,3,4,5,5,5,6,6]\n",
        "b1 = collections.Counter(a1)\n",
        "b1"
      ],
      "execution_count": 35,
      "outputs": [
        {
          "output_type": "execute_result",
          "data": {
            "text/plain": [
              "Counter({1: 1, 2: 1, 3: 1, 4: 1, 5: 3, 6: 2})"
            ]
          },
          "metadata": {
            "tags": []
          },
          "execution_count": 35
        }
      ]
    },
    {
      "cell_type": "code",
      "metadata": {
        "colab": {
          "base_uri": "https://localhost:8080/"
        },
        "id": "V6km1h3Nxvzs",
        "outputId": "337668ef-53e6-4b28-88bc-eae656558669"
      },
      "source": [
        "type(b1)"
      ],
      "execution_count": 39,
      "outputs": [
        {
          "output_type": "execute_result",
          "data": {
            "text/plain": [
              "collections.Counter"
            ]
          },
          "metadata": {
            "tags": []
          },
          "execution_count": 39
        }
      ]
    },
    {
      "cell_type": "code",
      "metadata": {
        "colab": {
          "base_uri": "https://localhost:8080/"
        },
        "id": "_OnkMOgzxv1p",
        "outputId": "55d2d59c-03c5-40fc-e195-c947a41915cb"
      },
      "source": [
        "b1.most_common(2)"
      ],
      "execution_count": 40,
      "outputs": [
        {
          "output_type": "execute_result",
          "data": {
            "text/plain": [
              "[(5, 3), (6, 2)]"
            ]
          },
          "metadata": {
            "tags": []
          },
          "execution_count": 40
        }
      ]
    },
    {
      "cell_type": "code",
      "metadata": {
        "colab": {
          "base_uri": "https://localhost:8080/"
        },
        "id": "h88EeCyrxv3b",
        "outputId": "33e9b7b2-05c9-4bc9-b374-865118fd061f"
      },
      "source": [
        "collections.OrderedDict({'banana':3, 'apple':4, 'pear':1, 'orange':2})"
      ],
      "execution_count": 41,
      "outputs": [
        {
          "output_type": "execute_result",
          "data": {
            "text/plain": [
              "OrderedDict([('banana', 3), ('apple', 4), ('pear', 1), ('orange', 2)])"
            ]
          },
          "metadata": {
            "tags": []
          },
          "execution_count": 41
        }
      ]
    },
    {
      "cell_type": "code",
      "metadata": {
        "colab": {
          "base_uri": "https://localhost:8080/"
        },
        "id": "KPNxAJ23y26L",
        "outputId": "629f44aa-0af3-4375-fdf0-7af7ba3f18c9"
      },
      "source": [
        "a = list()\n",
        "type(a)"
      ],
      "execution_count": 42,
      "outputs": [
        {
          "output_type": "execute_result",
          "data": {
            "text/plain": [
              "list"
            ]
          },
          "metadata": {
            "tags": []
          },
          "execution_count": 42
        }
      ]
    },
    {
      "cell_type": "code",
      "metadata": {
        "colab": {
          "base_uri": "https://localhost:8080/"
        },
        "id": "Cfd_2SE-y28Y",
        "outputId": "1c8c6b6d-3a85-4030-870f-3e1ae1198306"
      },
      "source": [
        "type([])"
      ],
      "execution_count": 43,
      "outputs": [
        {
          "output_type": "execute_result",
          "data": {
            "text/plain": [
              "list"
            ]
          },
          "metadata": {
            "tags": []
          },
          "execution_count": 43
        }
      ]
    },
    {
      "cell_type": "code",
      "metadata": {
        "colab": {
          "base_uri": "https://localhost:8080/"
        },
        "id": "EVGHV3AVy2-p",
        "outputId": "7d807123-208a-4947-cf9b-6c84193ada3a"
      },
      "source": [
        "type(())"
      ],
      "execution_count": 44,
      "outputs": [
        {
          "output_type": "execute_result",
          "data": {
            "text/plain": [
              "tuple"
            ]
          },
          "metadata": {
            "tags": []
          },
          "execution_count": 44
        }
      ]
    },
    {
      "cell_type": "code",
      "metadata": {
        "colab": {
          "base_uri": "https://localhost:8080/"
        },
        "id": "JTWDLp4yy3BJ",
        "outputId": "781779c5-559c-4856-8ad8-d2fd69155382"
      },
      "source": [
        "type({})"
      ],
      "execution_count": 45,
      "outputs": [
        {
          "output_type": "execute_result",
          "data": {
            "text/plain": [
              "dict"
            ]
          },
          "metadata": {
            "tags": []
          },
          "execution_count": 45
        }
      ]
    },
    {
      "cell_type": "code",
      "metadata": {
        "colab": {
          "base_uri": "https://localhost:8080/"
        },
        "id": "f78pjKf0y3Dz",
        "outputId": "29a7d179-9759-4ef3-d432-918d7503f0be"
      },
      "source": [
        "type({1})"
      ],
      "execution_count": 46,
      "outputs": [
        {
          "output_type": "execute_result",
          "data": {
            "text/plain": [
              "set"
            ]
          },
          "metadata": {
            "tags": []
          },
          "execution_count": 46
        }
      ]
    },
    {
      "cell_type": "markdown",
      "metadata": {
        "id": "-P50G3HvzMDS"
      },
      "source": [
        "# 6장 문자열 조작"
      ]
    },
    {
      "cell_type": "code",
      "metadata": {
        "id": "6vcxLyZPzILr"
      },
      "source": [
        "def is_palindrome(self, s:str) -> bool:\n",
        "  strs = []\n",
        "  for char in s:\n",
        "    if char.isalnum():\n",
        "      strs.append(char.lower())\n",
        "\n",
        "  while len(strs) > 1: \n",
        "    if strs.pop(0) != strs.pop(): \n",
        "      return False \n",
        "  return True"
      ],
      "execution_count": 47,
      "outputs": []
    },
    {
      "cell_type": "code",
      "metadata": {
        "id": "LFv9UMa_zIPV"
      },
      "source": [
        "def is_palindrome(self, s:str) -> bool:\n",
        "  strs: Deque = collections.deque() \n",
        "\n",
        "  for char in s:\n",
        "    if char.isalnum():\n",
        "      strs.append(char.lower ())\n",
        "\n",
        "  while len(strs) > 1:\n",
        "    if strs.popleft() != strs.pop():\n",
        "      return False\n",
        "\n",
        "  return True"
      ],
      "execution_count": 48,
      "outputs": []
    },
    {
      "cell_type": "code",
      "metadata": {
        "id": "LpBMZqykzIXZ"
      },
      "source": [
        "def is_palindrome(self, s:str) -> bool:\n",
        "  s = s.lower()\n",
        "  s = re.sub('[^a-z0-9', '', s)\n",
        "\n",
        "  return s == s[::-1] "
      ],
      "execution_count": 49,
      "outputs": []
    },
    {
      "cell_type": "code",
      "metadata": {
        "id": "DJYlVZcZzIZs"
      },
      "source": [
        "from typing import List"
      ],
      "execution_count": 50,
      "outputs": []
    },
    {
      "cell_type": "code",
      "metadata": {
        "id": "Q7vlwzgBzIbk"
      },
      "source": [
        "def reverseString(self, s: List[str]) -> None:\n",
        "  left, right =0, len(s) -1\n",
        "  while left < right:\n",
        "    s[left], s[right] = s[right], s[left]\n",
        "    left += 1\n",
        "    right -= 1"
      ],
      "execution_count": 51,
      "outputs": []
    },
    {
      "cell_type": "code",
      "metadata": {
        "id": "owqcQjHBzIdz"
      },
      "source": [
        "def reverseString(self, s: List[str]) -> None:\n",
        "  s.reverse()"
      ],
      "execution_count": 52,
      "outputs": []
    },
    {
      "cell_type": "code",
      "metadata": {
        "id": "FIpyMB6DzIgS"
      },
      "source": [
        "def reorderLogFiles(self, logs: List[str]) -> List[str]:\n",
        "  letters, digits = [], []\n",
        "  for log in logs:\n",
        "    if log.split([1]).isdigit():\n",
        "      digits.append(log)\n",
        "    else:\n",
        "      letters,append(log)\n",
        "\n",
        "  letter.sort(key=lambda x: (x.split()[1:], x.split([0])))\n",
        "  return letters + digits"
      ],
      "execution_count": 53,
      "outputs": []
    },
    {
      "cell_type": "code",
      "metadata": {
        "id": "Yl4ri_W_zIiB"
      },
      "source": [
        "def mostCommonWord(self, paragraph: str, bsnned: List[str]) -> str:\n",
        "  words = [word for word in re.sub(r'[^\\w]', ' ', paragraph).lower().split() if word not in banned]\n",
        "\n",
        "  counts = collections.Counter(words)\n",
        "\n",
        "  return counts.most_common(1)[0][0]"
      ],
      "execution_count": 54,
      "outputs": []
    },
    {
      "cell_type": "code",
      "metadata": {
        "id": "QJOrOwB20EbP"
      },
      "source": [
        "def groupAnagrams(self, strs: List[str]) -> List[List[str]]:\n",
        "  anagrams = colletions.defaultdict(list)\n",
        "\n",
        "  for word in strs:\n",
        "    anagrams[''.join(sorted(word))].append(word)\n",
        "\n",
        "  return anagrams.values()"
      ],
      "execution_count": 55,
      "outputs": []
    },
    {
      "cell_type": "code",
      "metadata": {
        "id": "ozm8erO70KaT"
      },
      "source": [
        "def longestPalindrome(self, s: str) -> str:\n",
        "  def expand(left: int, right: int) -> str:\n",
        "    while left >= 0 and right <= len(s) and s[left] == s[right-1]:\n",
        "      left -= 1\n",
        "      right += 1\n",
        "    return s[left + 1:right -1]\n",
        "  if len(s) < 2 or s == s[::-1]:\n",
        "    return s"
      ],
      "execution_count": 56,
      "outputs": []
    },
    {
      "cell_type": "markdown",
      "metadata": {
        "id": "dX90TPuj0aQS"
      },
      "source": [
        "# 7장 배열"
      ]
    },
    {
      "cell_type": "code",
      "metadata": {
        "id": "egE87VpM0KcZ"
      },
      "source": [
        "from typing import List"
      ],
      "execution_count": 57,
      "outputs": []
    },
    {
      "cell_type": "code",
      "metadata": {
        "id": "maGHqmXd0K1j"
      },
      "source": [
        "def twoSum(self, nums: List[int], target: int) -> List[int]:\n",
        "  for i in range(len(nums)):\n",
        "    for j in range(i + 1, len(nums)):\n",
        "      if nums[i]+nums[j] == target:\n",
        "        return [i,j]"
      ],
      "execution_count": 58,
      "outputs": []
    },
    {
      "cell_type": "code",
      "metadata": {
        "id": "_CkE4bvv0K3n"
      },
      "source": [
        "def twoSum(self, nums: List[int], target: int) -> List[int]:\n",
        "  for i, n in enumerate(nums):\n",
        "    complement = target - n\n",
        "\n",
        "    if complement in nums[i+1]:\n",
        "      return nums.index(n), nums[i+1:].index(complement) + (i+1)"
      ],
      "execution_count": 59,
      "outputs": []
    },
    {
      "cell_type": "code",
      "metadata": {
        "id": "wp1mztkq0hm3"
      },
      "source": [
        "def twoSum(self, nums: List[int], target: int) -> List[int]:\n",
        "  nums_map = {}\n",
        "  for i, num in enumerate(nums):\n",
        "    nums_map[num] = i\n",
        "  for i, num in enumerate(nums):\n",
        "    if target - num in nums_map and i != nums_map[target - num]:\n",
        "      return nums.index(num), nums_map[target - num]"
      ],
      "execution_count": 60,
      "outputs": []
    },
    {
      "cell_type": "code",
      "metadata": {
        "id": "KBZkGTLS0hpu"
      },
      "source": [
        "def twoSum(self, nums: List[int], target: int) -> List[int]:\n",
        "  nums_map = {}\n",
        "  for i, num in enumerate(nums):\n",
        "    if target - num in nums_map:\n",
        "      return [nums_map[target - num], i]\n",
        "    nums_map[num] = i"
      ],
      "execution_count": 61,
      "outputs": []
    },
    {
      "cell_type": "code",
      "metadata": {
        "id": "8F3O1lop0hsD"
      },
      "source": [
        "def twoSum(self, nums: List[int], target: int) -> List[int]:\n",
        "  left, right = 0, len(nums) -1\n",
        "  while not left == right:\n",
        "    if nums[left] + num[right] > target:\n",
        "      left += 1\n",
        "    if nums[left] + num[right] < target:\n",
        "      right += 1\n",
        "    else:\n",
        "      return left, right"
      ],
      "execution_count": 62,
      "outputs": []
    },
    {
      "cell_type": "code",
      "metadata": {
        "id": "TBNk5IaC0huL"
      },
      "source": [
        "def trap(self, height: List[int]) -> int:\n",
        "  if not height:\n",
        "    return 0\n",
        "\n",
        "  volume = 0\n",
        "  left, right =0, len(height) -1\n",
        "  left_max, right_max = height[left], height[right]\n",
        "\n",
        "  while left < right:\n",
        "    left_max, right_max = max(height[left], left_max), max(height[right], right_max)\n",
        "    # 더 높은 쪽을 향해 투 포인터 이동\n",
        "    if left_max <= right_max:\n",
        "      volume += left_max - height[left]\n",
        "      left += 1\n",
        "    else:\n",
        "      volume += right_max - height[right]\n",
        "      right -= 1\n",
        "  return volume"
      ],
      "execution_count": 64,
      "outputs": []
    },
    {
      "cell_type": "code",
      "metadata": {
        "id": "YPOlaR520hwX"
      },
      "source": [
        "def trap(self, height: List[int]) -> int:\n",
        "  stack =[]\n",
        "  volume = 0\n",
        "\n",
        "  for i in range(len(height)):\n",
        "    # 변곡점을 만나는 경우\n",
        "    while stack and height[i] > height[stack[-1]]:\n",
        "      # 스택에서 꺼낸다.\n",
        "      top = stack.pop()\n",
        "\n",
        "      if not len(stack):\n",
        "        break\n",
        "      #이전과의 차이만큼 물 높이 처리\n",
        "      distance = i -stack[-1] -1\n",
        "      waters = min(height[i], height[stack[-1]]) - height[top]\n",
        "\n",
        "      volume += distance * waters\n",
        "    stack.append(i)\n",
        "\n",
        "  return volume"
      ],
      "execution_count": 65,
      "outputs": []
    },
    {
      "cell_type": "code",
      "metadata": {
        "id": "sFPLUVk01GwJ"
      },
      "source": [
        "def threeSum(self, nums: List[int]) -> List[List[int]]:\n",
        "  results = []\n",
        "  nums.sort()\n",
        "\n",
        "  # 브루트 포스로 n^3 반복\n",
        "  for i in range(len(nums)-2):\n",
        "    # 중복된 값 건너 뛰기\n",
        "    if i >0 and nums[i] == nums[i-1]:\n",
        "      continue\n",
        "    for j in range(i +1, len(nums)-1):\n",
        "      if j> i+1 and nums[j] == nums[j-1]:\n",
        "        continue\n",
        "      for k in range(j + 1, len(nums)):\n",
        "        if k > j+1 and nums[k] == nums[k-1]:\n",
        "          continue\n",
        "        if nums[i] + nums[j] + nums[k] ==0:\n",
        "          results,append((nums[i], nums[j], nums[k]))\n",
        "\n",
        "  return results"
      ],
      "execution_count": 67,
      "outputs": []
    },
    {
      "cell_type": "code",
      "metadata": {
        "id": "mYa-iNqm1Izk"
      },
      "source": [
        "def threeSum(self, nums: List[int]) -> List[List[int]]:\n",
        "  results = []\n",
        "  nums.sort()\n",
        "\n",
        "  for i in range(len(nums)-2):\n",
        "    if i >0 and nums[i] == nums[i-1]:\n",
        "      continue\n",
        "    left, right = i + 1, len(nums) -1\n",
        "    while left < right:\n",
        "      sum = nums[i] + nums[left] + nums[right]\n",
        "      if sum <0:\n",
        "        left += 1\n",
        "      elif sum >0:\n",
        "        right -= 1\n",
        "      else:\n",
        "        results.append((nums[i], nums[j], nums[k]))\n",
        "\n",
        "        while left < right and nums[left] == nums[left+1]:\n",
        "          left += 1\n",
        "        while left < right and nums[right] == nums[right-1]:\n",
        "          right -= 1\n",
        "        left += 1\n",
        "        right -= 1\n",
        "\n",
        "  return results"
      ],
      "execution_count": 81,
      "outputs": []
    },
    {
      "cell_type": "code",
      "metadata": {
        "id": "PiFByMJP1I1z"
      },
      "source": [
        "def arrayPairSum(self, nums: List[int]) -> int:\n",
        "  sum =0\n",
        "  pair =[]\n",
        "  nums.sort()\n",
        "\n",
        "  for n in nums:\n",
        "    pair.append(n)\n",
        "    if len(pair) ==2:\n",
        "      sum += min(pair)\n",
        "      pair = []\n",
        "  return sum"
      ],
      "execution_count": 82,
      "outputs": []
    },
    {
      "cell_type": "code",
      "metadata": {
        "id": "kVP1b77m1I4v"
      },
      "source": [
        "def arrayPairSum(self, nums: List[int]) -> int:\n",
        "  sum =0\n",
        "  pair =[]\n",
        "  nums.sort()\n",
        "\n",
        "  for i, n in enumerate(nums):\n",
        "    if i % 2 == 0:\n",
        "      sum += n\n",
        "\n",
        "  return sum"
      ],
      "execution_count": 83,
      "outputs": []
    },
    {
      "cell_type": "code",
      "metadata": {
        "id": "WGlM-vAN1OUJ"
      },
      "source": [
        "def arrayPairSum(self, nums: List[int]) -> int:\n",
        "  return sum(sorted(nums[::2]))"
      ],
      "execution_count": 72,
      "outputs": []
    },
    {
      "cell_type": "code",
      "metadata": {
        "id": "D5GqAqHl1OWL"
      },
      "source": [
        "def productExceptSelf(self, nums: List[int]) -> List[int]:\n",
        "  out = []\n",
        "  p = 1\n",
        "  for i in range(0, len(nums)):\n",
        "    out.append(p)\n",
        "    p = p*nums[i]\n",
        "  p = 1\n",
        "  for i in range(len(nums) - 1, 0 -1, -1):\n",
        "    out[i] = out[i] * p\n",
        "    p = p * nums[i]\n",
        "  return out"
      ],
      "execution_count": 85,
      "outputs": []
    },
    {
      "cell_type": "code",
      "metadata": {
        "id": "P53ckmmN1OYo"
      },
      "source": [
        "def maxProfit(self, prices: List[int]) -> int:\n",
        "  max_price =0\n",
        "  for i,price in enumerate(prices):\n",
        "    for j in range(i, len(prices)):\n",
        "      max_price = max(prices[j] - price, max_price)\n",
        "  return max_price"
      ],
      "execution_count": 75,
      "outputs": []
    },
    {
      "cell_type": "code",
      "metadata": {
        "id": "-ZoRDy-U1Oa2"
      },
      "source": [
        "def maxProfit(self, prices: List[int]) -> int:\n",
        "  profit = 0\n",
        "  min_price = sys.maxsize\n",
        "\n",
        "  for price in prices:\n",
        "    min_price = min(min_price, price)\n",
        "    profit = max(profit, price - min_price)\n",
        "  \n",
        "  return profit"
      ],
      "execution_count": 86,
      "outputs": []
    }
  ]
}